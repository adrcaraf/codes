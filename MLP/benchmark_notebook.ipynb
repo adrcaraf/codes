{
 "cells": [
  {
   "cell_type": "code",
   "execution_count": 1,
   "metadata": {
    "collapsed": false
   },
   "outputs": [],
   "source": [
    "%load_ext autoreload\n",
    "%autoreload 2\n",
    "%aimport -numpy\n",
    "\n",
    "from mlp_mark1 import Mlp\n",
    "import numpy as np"
   ]
  },
  {
   "cell_type": "code",
   "execution_count": 2,
   "metadata": {
    "collapsed": false
   },
   "outputs": [
    {
     "name": "stdout",
     "output_type": "stream",
     "text": [
      "[2L, 2, 1L]\n",
      "a\n",
      "    0 out of    1, on epoch   599\n",
      "[[-0.9227975]]\n",
      "[[ 0.93822671]]\n"
     ]
    }
   ],
   "source": [
    "np.random.seed(12)\n",
    "\n",
    "X = np.array([[0,0],[0,1],[1,0],[1,1]])\n",
    "D = np.array([-1,1,1,-1])\n",
    "\n",
    "nn = Mlp([2], X, D)\n",
    "nn.epochs_n, nn.batch_sz =600, 4\n",
    "nn.lr, nn.mmtum, nn.reg = 1, 1., .001\n",
    "\n",
    "nn.train()\n",
    "\n",
    "print(nn.predict(np.array([1,1])))\n",
    "print(nn.predict(np.array([0,1])))\n"
   ]
  },
  {
   "cell_type": "code",
   "execution_count": 2,
   "metadata": {
    "collapsed": false
   },
   "outputs": [
    {
     "name": "stdout",
     "output_type": "stream",
     "text": [
      "(42000L, 785L)\n"
     ]
    }
   ],
   "source": [
    "data = np.genfromtxt('../data/mnist_train.csv', delimiter=',')\n",
    "data = data[1:,:]\n",
    "print(data.shape)"
   ]
  },
  {
   "cell_type": "code",
   "execution_count": 4,
   "metadata": {
    "collapsed": false
   },
   "outputs": [
    {
     "name": "stdout",
     "output_type": "stream",
     "text": [
      "(10000L, 784L)\n",
      "(10000L, 10L)\n",
      "(10000L, 794L)\n",
      "[[ 1.  0.  1.  0.  0.  0.  0.  0.  0.  0.  0.]\n",
      " [ 0.  1.  0.  0.  0.  0.  0.  0.  0.  0.  0.]\n",
      " [ 1.  0.  1.  0.  0.  0.  0.  0.  0.  0.  0.]\n",
      " [ 4.  0.  0.  0.  0.  1.  0.  0.  0.  0.  0.]\n",
      " [ 0.  1.  0.  0.  0.  0.  0.  0.  0.  0.  0.]\n",
      " [ 0.  1.  0.  0.  0.  0.  0.  0.  0.  0.  0.]\n",
      " [ 7.  0.  0.  0.  0.  0.  0.  0.  1.  0.  0.]\n",
      " [ 3.  0.  0.  0.  1.  0.  0.  0.  0.  0.  0.]\n",
      " [ 5.  0.  0.  0.  0.  0.  1.  0.  0.  0.  0.]\n",
      " [ 3.  0.  0.  0.  1.  0.  0.  0.  0.  0.  0.]]\n"
     ]
    }
   ],
   "source": [
    "data = data[:10000,:]\n",
    "X = data[:,1:]\n",
    "D = np.tile(np.arange(10),(data.shape[0],1))\n",
    "D = np.equal(D,np.tile(data[:,0][:,np.newaxis],(1,10)))*1.\n",
    "\n",
    "X = X - np.tile(X.mean(axis=0), (X.shape[0],1))\n",
    "X /= X.max() \n",
    "\n",
    "print(X.shape)\n",
    "print(D.shape)\n",
    "\n",
    "print(np.hstack([X,D]).shape)\n",
    "\n",
    "#print(X[:10, 564:574])\n",
    "print(np.hstack([data[:10,0][:,np.newaxis],D[:10,:]]))"
   ]
  },
  {
   "cell_type": "code",
   "execution_count": 11,
   "metadata": {
    "collapsed": false
   },
   "outputs": [
    {
     "name": "stdout",
     "output_type": "stream",
     "text": [
      "[784L, 128, 784L]\n",
      "a\n",
      "   99 out of  100, on epoch     5\n",
      "[128, 256, 128, 128, 10L]\n",
      "a\n",
      "   99 out of  100, on epoch     2\n",
      "[[ 1.  1.]\n",
      " [ 0.  0.]\n",
      " [ 1.  1.]\n",
      " [ 2.  4.]\n",
      " [ 0.  0.]\n",
      " [ 0.  0.]\n",
      " [ 7.  7.]\n",
      " [ 3.  3.]\n",
      " [ 5.  5.]\n",
      " [ 3.  3.]]\n"
     ]
    },
    {
     "data": {
      "text/plain": [
       "0.83250000000000002"
      ]
     },
     "execution_count": 11,
     "metadata": {},
     "output_type": "execute_result"
    }
   ],
   "source": [
    "nn = Mlp([256, 128, 128], X, D)\n",
    "\n",
    "nn.epochs_n, nn.batch_sz = 300, 100\n",
    "nn.lr, nn.mmtum, nn.reg = 0.1, .0, .0001\n",
    "nn.stopTol = .1\n",
    "\n",
    "nn.autoencode(128).train().accuracy(X,data[:,0])"
   ]
  },
  {
   "cell_type": "code",
   "execution_count": 74,
   "metadata": {
    "collapsed": false
   },
   "outputs": [],
   "source": [
    "def test(l):\n",
    "    l.append(5)"
   ]
  },
  {
   "cell_type": "code",
   "execution_count": 77,
   "metadata": {
    "collapsed": false
   },
   "outputs": [
    {
     "data": {
      "text/plain": [
       "[5]"
      ]
     },
     "execution_count": 77,
     "metadata": {},
     "output_type": "execute_result"
    }
   ],
   "source": [
    "tmp = []\n",
    "test(tmp)\n",
    "tmp"
   ]
  }
 ],
 "metadata": {
  "kernelspec": {
   "display_name": "Python 2",
   "language": "python",
   "name": "python2"
  },
  "language_info": {
   "codemirror_mode": {
    "name": "ipython",
    "version": 2
   },
   "file_extension": ".py",
   "mimetype": "text/x-python",
   "name": "python",
   "nbconvert_exporter": "python",
   "pygments_lexer": "ipython2",
   "version": "2.7.13"
  }
 },
 "nbformat": 4,
 "nbformat_minor": 2
}
